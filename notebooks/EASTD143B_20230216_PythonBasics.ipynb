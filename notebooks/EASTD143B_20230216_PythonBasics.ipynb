{
  "cells": [
    {
      "attachments": {},
      "cell_type": "markdown",
      "metadata": {
        "id": "vEQwN1WuSMo5"
      },
      "source": [
        "# EASTD143B Python Basics I\n",
        "* Time of meeting: 15:45-17:45, **16 Febrary 2023**\n",
        "* Instructor: Kwok-leong Tang"
      ]
    },
    {
      "attachments": {},
      "cell_type": "markdown",
      "metadata": {},
      "source": [
        "## Jupyter Notebook\n",
        "* Cell (code or markdown);\n",
        "* Excute each cell;\n",
        "* Preserve output;\n",
        "* Reproduce the same result;"
      ]
    },
    {
      "cell_type": "code",
      "execution_count": null,
      "metadata": {},
      "outputs": [],
      "source": [
        "print(\"Hello World!\")"
      ]
    },
    {
      "cell_type": "markdown",
      "metadata": {
        "id": "Vib6TRpa01en"
      },
      "source": [
        "# Differences between human and machine\n",
        "\n",
        "## Making an omelette (human): [source](https://www.simplyrecipes.com/recipes/how_to_make_an_omelet/)\n",
        "* Beat the eggs: Use two or three eggs per omelette, depending on how hungry you are. Beat the eggs lightly with a fork.\n",
        "* Melt the butter: Use an 8-inch nonstick skillet for a 2-egg omelette, a 9-inch skillet for 3 eggs. Melt the butter over medium-low heat, and keep the temperature low and slow when cooking the eggs so the bottom doesn’t get too brown or overcooked.\n",
        "* Add the eggs: Let the eggs sit for a minute, then use a heatproof silicone spatula to gently lift the cooked eggs from the edges of the pan. Tilt the pan to allow the uncooked eggs to flow to the edge of the pan.\n",
        "* Fill the omelette: Add the filling—but don’t overstuff the omelette—when the eggs begin to set. Cook for a few more seconds\n",
        "* Fold and serve: Fold the omelette in half. Slide it onto a plate with the help of a silicone spatula.\n",
        "\n",
        "\n",
        "\n",
        "\n"
      ]
    },
    {
      "cell_type": "markdown",
      "metadata": {
        "id": "MgQeOAUDojod"
      },
      "source": [
        "## Making an omelette (machine/robot)"
      ]
    },
    {
      "cell_type": "code",
      "execution_count": null,
      "metadata": {
        "colab": {
          "base_uri": "https://localhost:8080/",
          "height": 336
        },
        "id": "ecfngQJTqjCb",
        "outputId": "cccb6628-6a55-4509-d070-610138a6ef7f"
      },
      "outputs": [],
      "source": [
        "%%html\n",
        "<iframe width=\"560\" height=\"315\" src=\"https://www.youtube.com/embed/sq-n-0Ux3lA\" title=\"YouTube video player\" frameborder=\"0\" allow=\"accelerometer; autoplay; clipboard-write; encrypted-media; gyroscope; picture-in-picture\" allowfullscreen></iframe>"
      ]
    },
    {
      "attachments": {},
      "cell_type": "markdown",
      "metadata": {},
      "source": [
        "# Basic concepts"
      ]
    },
    {
      "attachments": {},
      "cell_type": "markdown",
      "metadata": {},
      "source": [
        "## Syntax\n",
        "Syntax: the arrangement of components to create a sentence"
      ]
    },
    {
      "attachments": {},
      "cell_type": "markdown",
      "metadata": {},
      "source": [
        "### Comments\n",
        "Adding comments to your code to provide explanations, notes, or documentation for other people who might read your code.\n",
        "Adding comments is also a way to communicate with the Copilot in GitHub Codespaces. Copolit will generate code based on your comments."
      ]
    },
    {
      "cell_type": "code",
      "execution_count": null,
      "metadata": {
        "id": "jbFp0zrw8vDs"
      },
      "outputs": [],
      "source": [
        "# A single-line comment starts with a \"#.\"\n",
        "# the keyboard shortcut is (cmd|ctrl)-/\n",
        "print(\"Remember to comment!\") # The comment can start at the end of a code statement.\n",
        "# Add comments when you think they are neccessary.\n",
        "\n",
        "# This is a comment.\n",
        "print(\"This is a line I dont want!\")"
      ]
    },
    {
      "cell_type": "code",
      "execution_count": null,
      "metadata": {},
      "outputs": [],
      "source": [
        "# This is a single line comment"
      ]
    },
    {
      "cell_type": "code",
      "execution_count": null,
      "metadata": {},
      "outputs": [],
      "source": [
        "\"\"\"\n",
        "This is a multi-line comment\n",
        "It can span multiple lines\n",
        "\"\"\""
      ]
    },
    {
      "cell_type": "code",
      "execution_count": null,
      "metadata": {},
      "outputs": [],
      "source": [
        "'''\n",
        "This is a multi-line comment\n",
        "It can span multiple lines\n",
        "'''"
      ]
    },
    {
      "cell_type": "code",
      "execution_count": null,
      "metadata": {},
      "outputs": [],
      "source": [
        "# Try to do something with copilot in this cell."
      ]
    },
    {
      "attachments": {},
      "cell_type": "markdown",
      "metadata": {},
      "source": [
        "### Indentation\n",
        "In Python, indentation is used to define blocks of code, such as loops, functions, and class definitions. The amount of indentation used determines the scope of the code block."
      ]
    },
    {
      "cell_type": "code",
      "execution_count": null,
      "metadata": {},
      "outputs": [],
      "source": [
        "# An example of nest indentation\n",
        "for i in range(10):\n",
        "    if i % 2 == 0:\n",
        "        print(i)\n",
        "    else:\n",
        "        print(\"odd\") "
      ]
    },
    {
      "attachments": {},
      "cell_type": "markdown",
      "metadata": {},
      "source": [
        "## PEP 8\n",
        "A style guide is a document that describes good programming practices. [PEP 8](https://www.python.org/dev/peps/pep-0008/) is the style guide for Python. When you have any questions about the conventions (e.g. naming variables, indentation, ...), please check PEP 8 for the best reference."
      ]
    },
    {
      "attachments": {},
      "cell_type": "markdown",
      "metadata": {
        "id": "fZc6cT-cvT29"
      },
      "source": [
        "## Variables\n",
        "\n",
        "Variables are containers for storing values."
      ]
    },
    {
      "cell_type": "code",
      "execution_count": null,
      "metadata": {
        "colab": {
          "base_uri": "https://localhost:8080/"
        },
        "id": "c47rvh6MwhE3",
        "outputId": "2aab732e-4130-484a-d54c-b984c01b3a95"
      },
      "outputs": [],
      "source": [
        "# Assigning a storage location to store a value\n",
        "# Creating a variable with a \"=\".\n",
        "# On the left side of the \"=\" is the variable name. On the right side is the value.\n",
        "# The \"=\" does not mean equal in assigning variable.\n",
        "\n",
        "w = 5 \n",
        "y = \"I love dim sum!\"\n",
        "\n",
        "print(w)\n",
        "print(y)"
      ]
    },
    {
      "attachments": {},
      "cell_type": "markdown",
      "metadata": {
        "id": "Y5jOxoqdr18-"
      },
      "source": [
        "## Functions\n",
        "\n",
        "A function is a block of code that runs when it is called. You can pass data (arguments) into a function, and the function can return data.\n",
        "<br>\n",
        "Reference: http://python-textbook.pythonhumanities.com/01_intro/01_04-02_functions.html"
      ]
    },
    {
      "cell_type": "code",
      "execution_count": null,
      "metadata": {
        "colab": {
          "base_uri": "https://localhost:8080/"
        },
        "id": "3c_nuFstsu8z",
        "outputId": "0cc198c8-cc28-41a6-d9d1-9c6707c79354"
      },
      "outputs": [],
      "source": [
        "def make_one_omelet(): # define the function\n",
        "    print(\"A omelette is ready!\")\n",
        "\n",
        "make_one_omelet() # call the function"
      ]
    },
    {
      "cell_type": "code",
      "execution_count": null,
      "metadata": {
        "colab": {
          "base_uri": "https://localhost:8080/"
        },
        "id": "lp2rPuqk5vb2",
        "outputId": "8db9ec81-94a1-461c-bb22-67440bea9e31"
      },
      "outputs": [],
      "source": [
        "make_one_omelet()\n",
        "make_one_omelet()\n",
        "make_one_omelet()"
      ]
    },
    {
      "cell_type": "code",
      "execution_count": null,
      "metadata": {
        "colab": {
          "base_uri": "https://localhost:8080/"
        },
        "id": "2qJyOBPutbM9",
        "outputId": "a30bd991-7c9d-4ce0-a43e-704f7d3e9a83"
      },
      "outputs": [],
      "source": [
        "def make_omelets(number):\n",
        "    print(\"I made \" + number +\" omelets!\")\n",
        "\n",
        "make_omelets(\"five\") "
      ]
    },
    {
      "cell_type": "code",
      "execution_count": null,
      "metadata": {
        "colab": {
          "base_uri": "https://localhost:8080/"
        },
        "id": "85atD7ks6dGD",
        "outputId": "138dbdd0-133c-4e2b-a33b-dbc5e3687c92"
      },
      "outputs": [],
      "source": [
        "# make ten omelets\n",
        "make_omelets(\"ten\")\n"
      ]
    },
    {
      "cell_type": "code",
      "execution_count": null,
      "metadata": {
        "colab": {
          "base_uri": "https://localhost:8080/"
        },
        "id": "Y5Naf7PtvdaE",
        "outputId": "f57bf821-a925-4643-ce2b-dd1e5ba65933"
      },
      "outputs": [],
      "source": [
        "def make_omelets(number):\n",
        "    print(\"I made \" + number +\" omelets!\")\n",
        "\n",
        "print(\"How many omelets do you need?\")\n",
        "x = input()\n",
        "make_omelets(x)"
      ]
    },
    {
      "cell_type": "markdown",
      "metadata": {
        "id": "apcA5uIYw6NE"
      },
      "source": [
        "**Question: Is print() a function?**"
      ]
    },
    {
      "cell_type": "code",
      "execution_count": null,
      "metadata": {
        "colab": {
          "base_uri": "https://localhost:8080/"
        },
        "id": "HAKFwwYiztCc",
        "outputId": "a7dd90b4-98eb-4d09-83a2-4c862684cf36"
      },
      "outputs": [],
      "source": [
        "# type()\n",
        "type(print)"
      ]
    },
    {
      "attachments": {},
      "cell_type": "markdown",
      "metadata": {
        "id": "ZXZnGjR0xjr4"
      },
      "source": [
        "## Data types\n",
        "\n",
        "Data types are different forms of data. The common python build-in data types include but are not limited to string(str), integer(int), float, complex, and boolean(bool). Libraries and modules may have specific data types, for example dataFrame for pandas.\n",
        "\n",
        "http://python-textbook.pythonhumanities.com/01_intro/01_02-02_data.html"
      ]
    },
    {
      "cell_type": "code",
      "execution_count": null,
      "metadata": {
        "id": "c2GP0sn2xjRb"
      },
      "outputs": [],
      "source": [
        "# The way of assigning a variable determines its data type.\n",
        "\n",
        "a = 5\n",
        "b = 5.0\n",
        "c = \"5\"\n",
        "d = {5}\n",
        "e = [5]\n",
        "f = (\"5\", \"five\")\n",
        "g = True\n",
        "h = {\"value\": 5}"
      ]
    },
    {
      "cell_type": "code",
      "execution_count": null,
      "metadata": {
        "colab": {
          "base_uri": "https://localhost:8080/"
        },
        "id": "ouqMxjd03edg",
        "outputId": "c279cc83-f20f-43ec-d127-1dbe0a3273c9"
      },
      "outputs": [],
      "source": [
        "print(a)\n",
        "print(type(a))"
      ]
    },
    {
      "cell_type": "code",
      "execution_count": null,
      "metadata": {
        "colab": {
          "base_uri": "https://localhost:8080/"
        },
        "id": "2e1clLmN3rbv",
        "outputId": "70f72b87-dee1-44f8-e587-9157d5c4f121"
      },
      "outputs": [],
      "source": [
        "print(b)\n",
        "print(type(b))"
      ]
    },
    {
      "cell_type": "code",
      "execution_count": null,
      "metadata": {
        "colab": {
          "base_uri": "https://localhost:8080/"
        },
        "id": "q8XWM5P43qgO",
        "outputId": "56835929-a75f-452b-dee5-ab15bc0b64d2"
      },
      "outputs": [],
      "source": [
        "print(c)\n",
        "print(type(c))"
      ]
    },
    {
      "cell_type": "code",
      "execution_count": null,
      "metadata": {
        "colab": {
          "base_uri": "https://localhost:8080/"
        },
        "id": "NgBNPV9m315j",
        "outputId": "b4b637bf-6b8c-4d47-86bd-bbc7f4b83be1"
      },
      "outputs": [],
      "source": [
        "print(d)\n",
        "print(type(d))"
      ]
    },
    {
      "cell_type": "code",
      "execution_count": null,
      "metadata": {
        "colab": {
          "base_uri": "https://localhost:8080/"
        },
        "id": "Q77EOXHN3503",
        "outputId": "8fe1e449-8fa7-4a21-b17e-a5eb2595c853"
      },
      "outputs": [],
      "source": [
        "print(e)\n",
        "print(type(e))"
      ]
    },
    {
      "cell_type": "code",
      "execution_count": null,
      "metadata": {
        "colab": {
          "base_uri": "https://localhost:8080/"
        },
        "id": "lrxJ1btB4mNm",
        "outputId": "8e249f68-3552-4ae4-ca15-c9ad6390002c"
      },
      "outputs": [],
      "source": [
        "print(g)\n",
        "print(type(g))"
      ]
    },
    {
      "cell_type": "code",
      "execution_count": null,
      "metadata": {
        "colab": {
          "base_uri": "https://localhost:8080/"
        },
        "id": "GvC8iBNP44hN",
        "outputId": "1ce641d1-a87f-4cf8-c125-35419a16809c"
      },
      "outputs": [],
      "source": [
        "# assigning \"empty\" variables with constrcutor functions \n",
        "o = str()\n",
        "p = int()\n",
        "q = float()\n",
        "t = bool()\n",
        "\n",
        "print(o)\n",
        "print(type(o))\n",
        "print(p)\n",
        "print(type(p))\n",
        "print(q)\n",
        "print(type(q))\n",
        "print(t)\n",
        "print(type(t))"
      ]
    },
    {
      "cell_type": "code",
      "execution_count": null,
      "metadata": {
        "colab": {
          "base_uri": "https://localhost:8080/"
        },
        "id": "1mbIEnYQGfo0",
        "outputId": "72992570-b85d-43b5-a2f4-af986c6498a7"
      },
      "outputs": [],
      "source": [
        "p = \"67848.0\"\n",
        "\n",
        "print(p)\n",
        "print(type(p))"
      ]
    },
    {
      "cell_type": "code",
      "execution_count": null,
      "metadata": {
        "colab": {
          "base_uri": "https://localhost:8080/"
        },
        "id": "0d1yC7ef_CgE",
        "outputId": "39826e22-e3cf-43d2-986f-2fe3a746f93b"
      },
      "outputs": [],
      "source": [
        "# reassingning values to variables\n",
        "t = True\n",
        "o = 4\n",
        "p = 4\n",
        "q = 4\n",
        "\n",
        "print(o)\n",
        "print(p)\n",
        "print(q)\n",
        "print(t)"
      ]
    },
    {
      "cell_type": "markdown",
      "metadata": {
        "id": "NFzY1Epd-ApM"
      },
      "source": [
        "## Mixing data types?\n"
      ]
    },
    {
      "cell_type": "code",
      "execution_count": null,
      "metadata": {
        "colab": {
          "base_uri": "https://localhost:8080/"
        },
        "id": "faOf7koW_8KZ",
        "outputId": "04659dce-42a3-410d-d1cb-af0d52c4591c"
      },
      "outputs": [],
      "source": [
        "# numeric types\n",
        "m = 4.44444\n",
        "n = 4\n",
        "\n",
        "print(type(m))\n",
        "print(type(n))\n",
        "print(m + n)\n",
        "print(type(m+n))"
      ]
    },
    {
      "cell_type": "code",
      "execution_count": null,
      "metadata": {
        "colab": {
          "base_uri": "https://localhost:8080/"
        },
        "id": "hrAh4CHZAVbO",
        "outputId": "d6791aea-1af1-4b03-c83d-aa02d0e72e39"
      },
      "outputs": [],
      "source": [
        "# string and numeric\n",
        "string_1 = \"My lucky number is \"\n",
        "number_1 = 11\n",
        "\n",
        "print(type(string_1))\n",
        "print(type(number_1))"
      ]
    },
    {
      "cell_type": "code",
      "execution_count": null,
      "metadata": {
        "colab": {
          "base_uri": "https://localhost:8080/",
          "height": 184
        },
        "id": "xnM4b7NTAupo",
        "outputId": "a823048d-dbc9-469c-8fb1-f015ac7bb598"
      },
      "outputs": [],
      "source": [
        "# can we print them together?\n",
        "print(string_1 + number_1)"
      ]
    },
    {
      "cell_type": "code",
      "execution_count": null,
      "metadata": {
        "colab": {
          "base_uri": "https://localhost:8080/"
        },
        "id": "SF8gx37QA5o1",
        "outputId": "4fb4b642-92d4-4a83-a0e8-c459ab2375b4"
      },
      "outputs": [],
      "source": [
        "# what should we do?\n",
        "print(string_1 + str(number_1))\n",
        "print(type(str(number_1)))"
      ]
    },
    {
      "cell_type": "code",
      "execution_count": null,
      "metadata": {
        "colab": {
          "base_uri": "https://localhost:8080/",
          "height": 201
        },
        "id": "4vG7vUwDBXDA",
        "outputId": "7b49b54f-007f-4491-aa23-a1fbfee17318"
      },
      "outputs": [],
      "source": [
        "# how about boolean and string\n",
        "\n",
        "string_2 = \"The statement 'true is false' is \"\n",
        "boolean_2 = False\n",
        "\n",
        "print(string_2 + boolean_2)"
      ]
    },
    {
      "cell_type": "code",
      "execution_count": null,
      "metadata": {
        "colab": {
          "base_uri": "https://localhost:8080/"
        },
        "id": "_ohBI3MQBt5l",
        "outputId": "6905208c-b3a7-4610-acb4-9134d1bf5895"
      },
      "outputs": [],
      "source": [
        "print(string_2 + str(boolean_2))"
      ]
    },
    {
      "attachments": {},
      "cell_type": "markdown",
      "metadata": {},
      "source": [
        "### Methods\n",
        "Data or class has **methods**. "
      ]
    },
    {
      "cell_type": "code",
      "execution_count": null,
      "metadata": {},
      "outputs": [],
      "source": [
        "string_3 = \"My lucky number is 23 and 45\"\n",
        "print(string_3.upper()) # .upper() is a method to change the string to upper case."
      ]
    },
    {
      "cell_type": "code",
      "execution_count": null,
      "metadata": {},
      "outputs": [],
      "source": [
        "# Did string_3 change?\n",
        "print(string_3)"
      ]
    },
    {
      "cell_type": "code",
      "execution_count": null,
      "metadata": {},
      "outputs": [],
      "source": [
        "# change the string to lower case permanently\n",
        "string_3 = string_3.lower()\n",
        "\n",
        "print(string_3)"
      ]
    },
    {
      "attachments": {},
      "cell_type": "markdown",
      "metadata": {},
      "source": [
        "## Data Structures\n",
        "\n",
        "Data structures are ways of storing multiple kinds of data in a systematic way.\n",
        "\n",
        "http://python-textbook.pythonhumanities.com/01_intro/01_02-03_data_structures.html"
      ]
    },
    {
      "attachments": {},
      "cell_type": "markdown",
      "metadata": {
        "id": "-UcffU3NB3SC"
      },
      "source": [
        "### Lists\n",
        "Lists store ordered, changeable, and indexed data into a single variable. It is similar to array in other programmming languages. \n",
        "\n",
        "Python is 0-indexing.\n",
        "\n",
        "\n",
        "Simple reference: https://www.w3schools.com/python/python_lists.asp\n",
        "\n",
        "Advanced reference: https://docs.python.org/3/tutorial/datastructures.html "
      ]
    },
    {
      "cell_type": "code",
      "execution_count": null,
      "metadata": {
        "colab": {
          "base_uri": "https://localhost:8080/"
        },
        "id": "aWzTiaQAEg_o",
        "outputId": "ea5765b6-28e3-4578-8d0a-eee34a78d391"
      },
      "outputs": [],
      "source": [
        "list_of_int = [9, 20, 30, 9]\n",
        "list_of_float = [4.55, 6.333, 9.1314]\n",
        "list_of_variables = [number_1, m, n,]\n",
        "\n",
        "print(list_of_int)\n",
        "print(list_of_float)\n",
        "print(list_of_variables)"
      ]
    },
    {
      "cell_type": "code",
      "execution_count": null,
      "metadata": {
        "colab": {
          "base_uri": "https://localhost:8080/"
        },
        "id": "asmB7yM3GFs6",
        "outputId": "ad5de58d-dd37-47dc-8d27-ea4b9a6c05f3"
      },
      "outputs": [],
      "source": [
        "list_of_strings = [string_1, string_2]\n",
        "print(list_of_strings)"
      ]
    },
    {
      "cell_type": "code",
      "execution_count": null,
      "metadata": {
        "colab": {
          "base_uri": "https://localhost:8080/"
        },
        "id": "vkRo0Y0_HEfr",
        "outputId": "7710fb9f-9616-4520-9630-327c78b2922e"
      },
      "outputs": [],
      "source": [
        "countries = [\"Japan\", \"Korea\", \"China\", \"Vietnam\", \"Singapore\", \"Russia\", \"Thailand\"]\n",
        "print(countries)\n",
        "print(countries[0])\n",
        "print(countries[3])"
      ]
    },
    {
      "cell_type": "code",
      "execution_count": null,
      "metadata": {
        "colab": {
          "base_uri": "https://localhost:8080/"
        },
        "id": "ysD39xD1IAGI",
        "outputId": "db5f9724-0918-4431-a64e-b8e70c7f7518"
      },
      "outputs": [],
      "source": [
        "# Negative index\n",
        "print(countries[-1])\n",
        "print(countries[-3])\n",
        "\n",
        "# Get a range\n",
        "print(countries[2:4]) # The ending index is excluded."
      ]
    },
    {
      "cell_type": "code",
      "execution_count": null,
      "metadata": {
        "colab": {
          "base_uri": "https://localhost:8080/"
        },
        "id": "_FizyD1NINE5",
        "outputId": "62aa156d-6882-4e62-91de-4aeec17e72c3"
      },
      "outputs": [],
      "source": [
        "# Reassign value to a indexed position \n",
        "print(countries)\n",
        "\n",
        "countries[-2] = \"Cambodia\"\n",
        "print(countries)"
      ]
    },
    {
      "cell_type": "code",
      "execution_count": null,
      "metadata": {
        "colab": {
          "base_uri": "https://localhost:8080/"
        },
        "id": "bHDnpIuMJKqm",
        "outputId": "c4806eeb-b5a5-4737-9d82-b2fe3f9eb48e"
      },
      "outputs": [],
      "source": [
        "# Append new values to a list\n",
        "print(countries)\n",
        "\n",
        "countries.append(\"Laos\")\n",
        "countries.append(\"India\")\n",
        "print(countries)"
      ]
    },
    {
      "cell_type": "code",
      "execution_count": null,
      "metadata": {
        "colab": {
          "base_uri": "https://localhost:8080/"
        },
        "id": "ZWNwc1ERL6WA",
        "outputId": "e7e968e2-2afc-4d67-cbf4-6c04fa9d0d02"
      },
      "outputs": [],
      "source": [
        "# Sort the countries list\n",
        "print(countries)\n",
        "countries.sort()\n",
        "print(countries)"
      ]
    },
    {
      "cell_type": "code",
      "execution_count": null,
      "metadata": {
        "colab": {
          "base_uri": "https://localhost:8080/"
        },
        "id": "eaBmdY37KgBX",
        "outputId": "37223c60-f8c1-41bc-8931-89b261f1f879"
      },
      "outputs": [],
      "source": [
        "print(countries)\n",
        "reverse_countries = countries\n",
        "reverse_countries.reverse()\n",
        "print(reverse_countries)"
      ]
    },
    {
      "cell_type": "code",
      "execution_count": null,
      "metadata": {
        "colab": {
          "base_uri": "https://localhost:8080/"
        },
        "id": "hH2NLHDkMIKy",
        "outputId": "6f38815f-c126-4dba-eb81-2ec74f0bb3bb"
      },
      "outputs": [],
      "source": [
        "# Extend lists\n",
        "print(list_of_variables)\n",
        "print(list_of_int)\n",
        "print(list_of_float)\n",
        "\n",
        "list_of_variables.extend(list_of_int)\n",
        "print(list_of_variables)\n",
        "\n",
        "list_of_variables.extend(list_of_float)\n",
        "print(list_of_variables)"
      ]
    },
    {
      "cell_type": "code",
      "execution_count": null,
      "metadata": {
        "colab": {
          "base_uri": "https://localhost:8080/"
        },
        "id": "metgBQ5nOfRP",
        "outputId": "c2f27ca1-9c23-4cef-9107-929d04114bdd"
      },
      "outputs": [],
      "source": [
        "# Sort a numeric list\n",
        "print(list_of_variables)\n",
        "\n",
        "list_of_variables.sort()\n",
        "print(list_of_variables)\n",
        "\n",
        "list_of_variables.reverse()\n",
        "print(list_of_variables)"
      ]
    },
    {
      "cell_type": "code",
      "execution_count": null,
      "metadata": {
        "id": "qnPaKJ7SGQSZ"
      },
      "outputs": [],
      "source": [
        "# nested list\n",
        "nested_list = [list_of_strings, list_of_float, list_of_int]\n",
        "print(new_list)"
      ]
    },
    {
      "attachments": {},
      "cell_type": "markdown",
      "metadata": {},
      "source": [
        "### Dictionary\n",
        "\n",
        "Dictionary is one or a collection of key-value pairs."
      ]
    },
    {
      "cell_type": "code",
      "execution_count": null,
      "metadata": {},
      "outputs": [],
      "source": [
        "## an example of dictionary\n",
        "\n",
        "data = {\n",
        "    \"name\": \"John Doe\",\n",
        "    \"age\": 30,\n",
        "    \"is_married\": True,\n",
        "    \"languages\": [\"English\", \"Spanish\", \"French\"],\n",
        "    \"address\": {\n",
        "        \"street\": \"123 Main St.\",\n",
        "        \"city\": \"New York\",\n",
        "        \"state\": \"NY\",\n",
        "        \"zipcode\": 10001\n",
        "    }\n",
        "}\n"
      ]
    },
    {
      "cell_type": "code",
      "execution_count": null,
      "metadata": {},
      "outputs": [],
      "source": [
        "print(data[\"name\"])\n",
        "print(data[\"age\"])\n",
        "print(data[\"is_married\"])\n",
        "print(data[\"languages\"])\n",
        "print(data[\"address\"])"
      ]
    },
    {
      "cell_type": "code",
      "execution_count": null,
      "metadata": {},
      "outputs": [],
      "source": [
        "print(\"Name:\", data[\"name\"])\n",
        "print(\"Age:\", data[\"age\"])\n",
        "print(\"Married:\", data[\"is_married\"])\n",
        "print(\"Languages:\", data[\"languages\"])\n",
        "print(\"Address:\", data[\"address\"])"
      ]
    },
    {
      "cell_type": "code",
      "execution_count": null,
      "metadata": {},
      "outputs": [],
      "source": [
        "# Access the \"languages\" list from the data dictionary\n",
        "languages = data[\"languages\"]\n",
        "\n",
        "# Use the append method to add a new language to the list\n",
        "languages.append(\"German\")\n",
        "print(\"After append:\", languages)\n",
        "\n",
        "# Use the insert method to insert a new language at a specific index\n",
        "languages.insert(1, \"Italian\")\n",
        "print(\"After insert:\", languages)\n",
        "\n",
        "# Use the remove method to remove a specific language from the list\n",
        "languages.remove(\"French\")\n",
        "print(\"After remove:\", languages)\n",
        "\n",
        "# Use the pop method to remove and return the last language from the list\n",
        "last_language = languages.pop()\n",
        "print(\"After pop:\", languages)\n",
        "print(\"Popped language:\", last_language)\n",
        "\n",
        "# Use the index method to find the index of a specific language\n",
        "index = languages.index(\"Spanish\")\n",
        "print(\"Index of Spanish:\", index)\n",
        "\n",
        "# Use the count method to count the number of times a specific language appears in the list\n",
        "count = languages.count(\"English\")\n",
        "print(\"Count of English:\", count)\n",
        "\n",
        "# Use the sort method to sort the list in ascending order\n",
        "languages.sort()\n",
        "print(\"After sort:\", languages)\n"
      ]
    },
    {
      "cell_type": "markdown",
      "metadata": {},
      "source": [
        "## Differences: List, Tuple, and Set\n",
        "\n",
        "There are four collection data types in the Python programming language:\n",
        "\n",
        "**List** is a collection which is ordered and changeable. Allows duplicate members.\n",
        "\n",
        "**Tuple** is a collection which is ordered and unchangeable. Allows duplicate members.\n",
        "\n",
        "**Set** is a collection which is unordered, unchangeable*, and unindexed. No duplicate members.\n",
        "\n",
        "**Dictionary** is a collection which is ordered** and changeable. No duplicate members. \n",
        "\n",
        "(Source: [w3school](https://www.w3schools.com/python/python_tuples.asp))"
      ]
    },
    {
      "cell_type": "code",
      "execution_count": null,
      "metadata": {},
      "outputs": [],
      "source": [
        "# Items in a tuple are unchangeable. \n",
        "# When new items are added to a tuple, it becomes a new tuple.\n",
        "\n",
        "a_tuple = (3, 4, 7, 9, 12, 32)\n",
        "print(a_tuple)\n",
        "print(id(a_tuple))\n",
        "\n",
        "a_tuple += (92, 13, 123, 12, 13, 3, 4)  # short-hand: a_tuple = a_tuple + (92, 13, 123, 12, 13, 3, 4) \n",
        "print(a_tuple)\n",
        "print(id(a_tuple))"
      ]
    },
    {
      "cell_type": "code",
      "execution_count": null,
      "metadata": {},
      "outputs": [],
      "source": [
        "# Items in a list are changeable. \n",
        "# When new items are added to a list, it still is the same list.\n",
        "\n",
        "a_list = [3, 4, 7, 9, 12, 32]\n",
        "print(a_list)\n",
        "print(id(a_list))\n",
        "\n",
        "a_list += [92, 13, 123, 12, 13, 3, 4]  # short-hand: a_list = a_list + (92, 13, 123, 12, 13, 3, 4) \n",
        "print(a_list)\n",
        "print(id(a_list))"
      ]
    },
    {
      "cell_type": "code",
      "execution_count": null,
      "metadata": {},
      "outputs": [],
      "source": [
        "# Tuples only have two methods: index() and count()\n",
        "# count() finds out how many elements match the value you pass in.\n",
        "print(a_tuple)\n",
        "a_tuple.count(12)"
      ]
    },
    {
      "cell_type": "code",
      "execution_count": null,
      "metadata": {},
      "outputs": [],
      "source": [
        "# index() finds the first index of the value you pass in.\n",
        "a_tuple.index(7)"
      ]
    },
    {
      "cell_type": "code",
      "execution_count": null,
      "metadata": {},
      "outputs": [],
      "source": [
        "# Set is a collection which is unordered, unchangeable*, and unindexed. No duplicate members.\n",
        "# Set is very useful in removing duplicates.\n",
        "\n",
        "a_set = {'a', 'b', 'c', 'c', 'b', 'd', 'D', 'A', 'A'}\n",
        "print(a_set)\n"
      ]
    },
    {
      "cell_type": "code",
      "execution_count": null,
      "metadata": {},
      "outputs": [],
      "source": [
        "# You can convert a list into a a set by using set().\n",
        "\n",
        "print(a_list)\n",
        "b_set = set(a_list)\n",
        "print(b_set)"
      ]
    },
    {
      "cell_type": "code",
      "execution_count": null,
      "metadata": {},
      "outputs": [],
      "source": [
        "# Exercise\n",
        "\n",
        "students = ['communication studies', 'anthropology', 'history', 'communication studies', 'economics', 'geography', \n",
        "            'region studies', 'history', 'history', 'communication studies', 'comparative literature', 'communication studies', 'behaviour sciences',\n",
        "            'anthropology', 'history', 'economics', 'geography']\n",
        "\n",
        "\n",
        "# How many students are in history?\n",
        "\n",
        "\n",
        "# How many students are in economics?\n",
        "\n",
        "\n",
        "# How many subjects?"
      ]
    },
    {
      "cell_type": "code",
      "execution_count": null,
      "metadata": {},
      "outputs": [],
      "source": [
        "# How many students are in history?\n",
        "students_tuple = tuple(students)\n",
        "print(students_tuple)\n",
        "students_tuple.count('history')"
      ]
    },
    {
      "cell_type": "code",
      "execution_count": null,
      "metadata": {},
      "outputs": [],
      "source": [
        "students.count('economics')"
      ]
    },
    {
      "cell_type": "code",
      "execution_count": null,
      "metadata": {},
      "outputs": [],
      "source": [
        "students_set = set(students)\n",
        "print(students_set)\n",
        "print(len(students_set))"
      ]
    },
    {
      "cell_type": "markdown",
      "metadata": {},
      "source": [
        "## Conditional statements\n",
        "\n",
        "Life is about making choices! \n",
        "\n",
        "![pills](https://upload.wikimedia.org/wikipedia/commons/thumb/5/52/Red_and_blue_pill.jpg/640px-Red_and_blue_pill.jpg)\n",
        "\n",
        "Conditional statements help your programs to make decisions.\n",
        "\n"
      ]
    },
    {
      "cell_type": "markdown",
      "metadata": {},
      "source": [
        "### Operators\n",
        "\n",
        "* **>** Greater than - Return True if the left one is greater than the right one\n",
        "\n",
        "* **<** Less than - Return True if the left is less than the right one \n",
        "\n",
        "* **==** Equal to - Return True only when both sides are equal\n",
        "\n",
        "* **!=** Not equal to - Return True if the both sides are not equal\n",
        "\n",
        "* **>=** Greater than or equal to - Return True when the left one is greater than or equal to the right\n",
        "\n",
        "* **<=** Less than or equal to - Return True when the left is less than or equal to the right"
      ]
    },
    {
      "cell_type": "code",
      "execution_count": null,
      "metadata": {},
      "outputs": [],
      "source": [
        "a = 10\n",
        "b = 11"
      ]
    },
    {
      "cell_type": "code",
      "execution_count": null,
      "metadata": {},
      "outputs": [],
      "source": [
        "a == b"
      ]
    },
    {
      "cell_type": "code",
      "execution_count": null,
      "metadata": {},
      "outputs": [],
      "source": [
        "a != b"
      ]
    },
    {
      "cell_type": "code",
      "execution_count": null,
      "metadata": {},
      "outputs": [],
      "source": [
        "a > b"
      ]
    },
    {
      "cell_type": "code",
      "execution_count": null,
      "metadata": {},
      "outputs": [],
      "source": [
        "a < b"
      ]
    },
    {
      "cell_type": "code",
      "execution_count": null,
      "metadata": {},
      "outputs": [],
      "source": [
        "a >= b"
      ]
    },
    {
      "cell_type": "code",
      "execution_count": null,
      "metadata": {},
      "outputs": [],
      "source": [
        "a <= b"
      ]
    },
    {
      "cell_type": "markdown",
      "metadata": {},
      "source": [
        "### Simple condition\n",
        "\n",
        "A simple condition creates two or more paths. Using \"if-else\" statements to create contitions in Python."
      ]
    },
    {
      "cell_type": "code",
      "execution_count": null,
      "metadata": {},
      "outputs": [],
      "source": [
        "# A simple condition example\n",
        "# if <expression>:\n",
        "#    do something    ## be careful of indentations\n",
        "\n",
        "authorized = False\n",
        "if authorized: ## if authorized == True\n",
        "    print(\"You are authorized!\")"
      ]
    },
    {
      "cell_type": "code",
      "execution_count": null,
      "metadata": {},
      "outputs": [],
      "source": [
        "# if...else\n",
        "\n",
        "authorized = ' '\n",
        "if authorized == 'Invaders': ## if authorized == True\n",
        "    print(\"You are authorized!\")\n",
        "else:\n",
        "    print(\"Invaders!\")"
      ]
    },
    {
      "cell_type": "code",
      "execution_count": null,
      "metadata": {},
      "outputs": [],
      "source": [
        "from sys import setswitchinterval\n",
        "# if...elif\n",
        "\n",
        "age = 80\n",
        "if age < 21:\n",
        "    print('You are not allowed to buy alcohol!')\n",
        "elif age <= 34:\n",
        "    print('You make more new friends.')\n",
        "elif age == 35:\n",
        "    print('Stop searching!')\n",
        "else: \n",
        "    print('I am too old!')\n"
      ]
    },
    {
      "cell_type": "code",
      "execution_count": null,
      "metadata": {},
      "outputs": [],
      "source": [
        "# nested condition\n",
        "age = 18\n",
        "car = 'Ford'\n",
        "\n",
        "if age >= 18:\n",
        "    if car in ['Honda', 'Toyota', 'Subaru']:\n",
        "        print('You bought a Japanese car.') \n",
        "    elif car in ['Ford', 'Tesla', 'Jeep']:\n",
        "        print('You bought an American car.')\n",
        "else:\n",
        "    print('You are too young to buy cars!')"
      ]
    },
    {
      "cell_type": "code",
      "execution_count": null,
      "metadata": {},
      "outputs": [],
      "source": [
        "countries = ['China', 'Japan', 'Russia']\n",
        "destination = 'Korea'\n",
        "\n",
        "if destination in countries:\n",
        "    print('I find my destination in the list!')\n",
        "else:\n",
        "    print('It is not in the list')"
      ]
    },
    {
      "cell_type": "code",
      "execution_count": null,
      "metadata": {},
      "outputs": [],
      "source": [
        "# Excerise: re-write the code and make it to print 'You bought a Korean car.'\n",
        "\n",
        "age = 30\n",
        "car = 'BYD'\n",
        "\n",
        "if age >= 18:\n",
        "    if car in ['Honda', 'Toyota', 'Subaru']:\n",
        "        print('You bought a Japanese car.') \n",
        "    elif car in ['Ford', 'Tesla', 'Jeep']:\n",
        "        print('You bought an American car.')\n",
        "    elif car in ['Hyundai', 'Kia']:\n",
        "        print('You bought a Korean car.')\n",
        "    else:\n",
        "        print('You bought an unknown car to me.')\n",
        "else:\n",
        "    print('You are too young to buy cars!')"
      ]
    },
    {
      "cell_type": "markdown",
      "metadata": {},
      "source": [
        "## Loops\n",
        "\n",
        "There are two types of loops in Python: for loop and while loop."
      ]
    },
    {
      "cell_type": "code",
      "execution_count": null,
      "metadata": {},
      "outputs": [],
      "source": [
        "# for loop\n",
        "# for x in iterable:\n",
        "#   # do something\n",
        "# iterable can be lists, tuples, sets, dictionaries, and even strings \n",
        "\n",
        "car_brands = ['Honda', 'Toyota', 'Subaru', 'Ford', 'Tesla', 'Jeep', 'Hyundai', 'Kia', 'BMW', 'Hongqi', 'BYD']\n",
        "for brand in car_brands: # \"brand\" is just a container. It can be \"i\" or \"poilkk\".  \n",
        "    print(f'I love {brand}.') #f-string\n",
        "\n"
      ]
    },
    {
      "cell_type": "code",
      "execution_count": null,
      "metadata": {},
      "outputs": [],
      "source": [
        "item = [\"banana\", '2', '2']\n",
        "for i in len(item):\n",
        "    print(i)"
      ]
    },
    {
      "cell_type": "code",
      "execution_count": null,
      "metadata": {},
      "outputs": [],
      "source": [
        "# use range() function\n",
        "\n",
        "for i in range(3, 13):\n",
        "    print(i)"
      ]
    },
    {
      "cell_type": "code",
      "execution_count": null,
      "metadata": {},
      "outputs": [],
      "source": [
        "# while loop\n",
        "# while <condition>:\n",
        "    # do something\n",
        "\n",
        "x = 10\n",
        "while x > 0:\n",
        "    print(x)\n",
        "    x -= 1  # x = x -1"
      ]
    },
    {
      "cell_type": "code",
      "execution_count": null,
      "metadata": {},
      "outputs": [],
      "source": [
        "# Be careful here!\n",
        "\n",
        "x = 5\n",
        "while x > 4:\n",
        "    print(x)\n",
        "    x += 1"
      ]
    },
    {
      "cell_type": "code",
      "execution_count": null,
      "metadata": {},
      "outputs": [],
      "source": [
        "# Infinite loops are hazardous!\n",
        "# Use 'break' to stop a loop.\n",
        "\n",
        "x = 5\n",
        "while x > 4:\n",
        "    print(x)\n",
        "    if x == 15:\n",
        "        print(\"This is it!\")\n",
        "        break\n",
        "    x += 1"
      ]
    },
    {
      "attachments": {},
      "cell_type": "markdown",
      "metadata": {
        "id": "BJik6BPSUnZR"
      },
      "source": [
        "# After class readings\n",
        "Please read chapter 2 and 3 of the first part of the textbook: http://python-textbook.pythonhumanities.com/01_intro/01_02-01_intro.html#"
      ]
    },
    {
      "attachments": {},
      "cell_type": "markdown",
      "metadata": {
        "id": "RcZEo-umW3NQ"
      },
      "source": [
        "# Final Project (Research journal)\n",
        "\n",
        "The purpose of a research journal is to track everything related to your research project. The simplest way is to include dates and log in point form. For example,\n",
        "\n",
        "### 2023-02-20\n",
        "* Built a list for all the enshrined Confucians in the Confucius Temple.\n",
        "\n",
        "### 2023-02-23\n",
        "* Met with Prof. Wang.\n",
        "\n",
        "### 2023-02-24\n",
        "* Used [CBDB API](https://projects.iq.harvard.edu/chinesecbdb/cbdb-api) to collect the CBDB person id for all enshrined Confucians. \n",
        "* Found [Taipei Confucius Temple Confucian Culture website](https://www.tctcc.taipei).\n",
        "\n",
        "### 2023-02-25\n",
        "* Question 1 to ChatGPT: How can I obtain data about Japanese population in United States?\n",
        "* ChatGPT's response:\n",
        "\n",
        "Please use a markdown file (.md) to do a research journal. Please make sure that you track **everything**.\n"
      ]
    }
  ],
  "metadata": {
    "colab": {
      "provenance": []
    },
    "kernelspec": {
      "display_name": "Python 3",
      "language": "python",
      "name": "python3"
    },
    "language_info": {
      "codemirror_mode": {
        "name": "ipython",
        "version": 3
      },
      "file_extension": ".py",
      "mimetype": "text/x-python",
      "name": "python",
      "nbconvert_exporter": "python",
      "pygments_lexer": "ipython3",
      "version": "3.10.4"
    },
    "vscode": {
      "interpreter": {
        "hash": "3ad933181bd8a04b432d3370b9dc3b0662ad032c4dfaa4e4f1596c548f763858"
      }
    }
  },
  "nbformat": 4,
  "nbformat_minor": 0
}
